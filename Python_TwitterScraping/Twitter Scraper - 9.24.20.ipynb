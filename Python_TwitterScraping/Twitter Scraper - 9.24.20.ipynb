{
 "cells": [
  {
   "cell_type": "code",
   "execution_count": 1,
   "metadata": {
    "ExecuteTime": {
     "end_time": "2020-07-17T22:32:32.178860Z",
     "start_time": "2020-07-17T22:32:30.913314Z"
    }
   },
   "outputs": [],
   "source": [
    "import pandas as pd\n",
    "import numpy as np\n",
    "import requests\n",
    "import json\n",
    "import re, textwrap\n",
    "import pandas as pd\n",
    "import numpy as np\n",
    "import argparse"
   ]
  },
  {
   "cell_type": "code",
   "execution_count": 2,
   "metadata": {
    "ExecuteTime": {
     "end_time": "2020-07-17T22:32:34.813182Z",
     "start_time": "2020-07-17T22:32:32.180887Z"
    }
   },
   "outputs": [
    {
     "name": "stdout",
     "output_type": "stream",
     "text": [
      "Requirement already satisfied: TwitterAPI in c:\\users\\sshah\\appdata\\local\\continuum\\anaconda3\\lib\\site-packages (2.5.13)\n",
      "Requirement already satisfied: requests-oauthlib in c:\\users\\sshah\\appdata\\local\\continuum\\anaconda3\\lib\\site-packages (from TwitterAPI) (1.3.0)\n",
      "Requirement already satisfied: requests in c:\\users\\sshah\\appdata\\local\\continuum\\anaconda3\\lib\\site-packages (from TwitterAPI) (2.22.0)\n",
      "Requirement already satisfied: oauthlib>=3.0.0 in c:\\users\\sshah\\appdata\\local\\continuum\\anaconda3\\lib\\site-packages (from requests-oauthlib->TwitterAPI) (3.1.0)\n",
      "Requirement already satisfied: certifi>=2017.4.17 in c:\\users\\sshah\\appdata\\local\\continuum\\anaconda3\\lib\\site-packages (from requests->TwitterAPI) (2019.11.28)\n",
      "Requirement already satisfied: urllib3!=1.25.0,!=1.25.1,<1.26,>=1.21.1 in c:\\users\\sshah\\appdata\\local\\continuum\\anaconda3\\lib\\site-packages (from requests->TwitterAPI) (1.24.2)\n",
      "Requirement already satisfied: idna<2.9,>=2.5 in c:\\users\\sshah\\appdata\\local\\continuum\\anaconda3\\lib\\site-packages (from requests->TwitterAPI) (2.8)\n",
      "Requirement already satisfied: chardet<3.1.0,>=3.0.2 in c:\\users\\sshah\\appdata\\local\\continuum\\anaconda3\\lib\\site-packages (from requests->TwitterAPI) (3.0.4)\n"
     ]
    }
   ],
   "source": [
    "!pip install TwitterAPI"
   ]
  },
  {
   "cell_type": "code",
   "execution_count": 4,
   "metadata": {
    "ExecuteTime": {
     "end_time": "2020-07-17T22:32:34.886092Z",
     "start_time": "2020-07-17T22:32:34.817297Z"
    }
   },
   "outputs": [],
   "source": [
    "#NOTE: Must have TwitterAPI Installed\n",
    "from TwitterAPI import TwitterAPI\n",
    "from TwitterAPI import TwitterPager"
   ]
  },
  {
   "cell_type": "code",
   "execution_count": 5,
   "metadata": {
    "ExecuteTime": {
     "end_time": "2020-07-17T22:32:34.891230Z",
     "start_time": "2020-07-17T22:32:34.888265Z"
    }
   },
   "outputs": [],
   "source": [
    "api_key=\"LhCSedmn8rIMMipticrS4g350\"\n",
    "api_secret_key=\"y4Ws7XPuV9cmsOS3aId4LPIS5kMiA7nFzldBblOZo5lxfmC032\"\n",
    "bearer=\"AAAAAAAAAAAAAAAAAAAAAB91GAEAAAAA24kbznYamgCYk%2FRMiXyttUXILIU%3DIazdeos2q8xEOP4GkXAaK6gX37u7lx0Gq6hrg9MT1z6mtAMDgO\"\n",
    "AccessToken=\"1285002674597851137-IXKri9EFCqh9EozdKZqTqKL7BSXDWI\"\n",
    "AccessTokenSecret=\"BjJM0o0X1hZ8hjUwYDUfeSzWrSPJjgr1D5wXfGWQeZh8j\""
   ]
  },
  {
   "cell_type": "code",
   "execution_count": 6,
   "metadata": {
    "ExecuteTime": {
     "end_time": "2020-07-17T22:32:34.895789Z",
     "start_time": "2020-07-17T22:32:34.893029Z"
    }
   },
   "outputs": [],
   "source": [
    "# Setup Twitter API Client\n",
    "api = TwitterAPI(api_key, \n",
    "                 api_secret_key,\n",
    "                 AccessToken,\n",
    "                 AccessTokenSecret)"
   ]
  },
  {
   "cell_type": "code",
   "execution_count": 7,
   "metadata": {
    "ExecuteTime": {
     "end_time": "2020-07-17T22:34:55.800056Z",
     "start_time": "2020-07-17T22:34:55.792992Z"
    }
   },
   "outputs": [],
   "source": [
    "def remove_non_ascii_2(text):\n",
    "    \"\"\"\n",
    "    helper function to remove non-ascii character like emojis and things\n",
    "    \"\"\"\n",
    "    return re.sub(r'[^\\x00-\\x7F]+', \"'\", text)\n",
    "\n",
    "def extract_tweet_info(item, count, term):\n",
    "    \"\"\"\n",
    "    Extract columns for each tweet\n",
    "    \"\"\"\n",
    "    # Variables\n",
    "    time = item['created_at'] # might need to use python to format\n",
    "    tweet = remove_non_ascii_2(item['text']) #tweet text\n",
    "    search_term = term # search term\n",
    "    language = item['lang'] # language of the tweet\n",
    "    retweet_count = item['retweet_count'] # retweet count\n",
    "    user_id = item['user']['id'] # user id of the author\n",
    "    is_verified_user = item['user']['verified'] # is the user verified (binary)\n",
    "    user_friend_count = item['user']['friends_count'] # number of author's friends lol\n",
    "    user_follower_count = item['user']['followers_count'] # number of author's followers\n",
    "    user_location = item['user']['location']\n",
    "    \n",
    "    # clean up hashtags to only extract text\n",
    "    hashtags = item['entities']['hashtags']\n",
    "    hashtags_result = []\n",
    "    for x in hashtags:\n",
    "        hashtags_result.append(x['text'])\n",
    "\n",
    "    #Add Row to Data Frame\n",
    "    new_row = {\"created_at\":time, \n",
    "               \"tweet\":tweet, \n",
    "               \"search_term\": search_term, \n",
    "               \"hashtags\":str(hashtags_result).strip('[]'), \n",
    "               \"language\":language,\n",
    "               \"retweet_count\":retweet_count,\n",
    "               \"user_id\":user_id,\n",
    "               \"is_verified_user\":is_verified_user,\n",
    "               \"user_follower_count\":user_friend_count,\n",
    "               \"user_friend_count\":user_follower_count,\n",
    "               \"user_location\":user_location\n",
    "              }\n",
    "    \n",
    "    return new_row"
   ]
  },
  {
   "cell_type": "markdown",
   "metadata": {},
   "source": [
    "https://developer.twitter.com/en/docs/tweets/search/api-reference/get-search-tweets\n",
    "\n",
    "Returns tweets by users located within a given radius of the given latitude/longitude. The location is preferentially taking from the Geotagging API, but will fall back to their Twitter profile."
   ]
  },
  {
   "cell_type": "code",
   "execution_count": 52,
   "metadata": {
    "ExecuteTime": {
     "end_time": "2020-07-17T22:36:10.826153Z",
     "start_time": "2020-07-17T22:36:10.823048Z"
    }
   },
   "outputs": [],
   "source": [
    "# TODO: Update these with the right parameters\n",
    "limit = 500\n",
    "HASHTAGS = '#nuggets'\n",
    "#location_box = '29,-95'\n",
    "\n",
    "# create a Twitter paging client, will request one page at a time\n",
    "r = TwitterPager(api, \n",
    "                 'search/tweets', \n",
    "                 {'q': HASHTAGS})"
   ]
  },
  {
   "cell_type": "code",
   "execution_count": 53,
   "metadata": {
    "ExecuteTime": {
     "end_time": "2020-07-17T22:36:11.600937Z",
     "start_time": "2020-07-17T22:36:11.594977Z"
    }
   },
   "outputs": [],
   "source": [
    "#Setup Initial Empty Data Frame\n",
    "header = [\n",
    "          \"created_at\", \n",
    "          \"tweet\", \n",
    "          \"search_term\", \n",
    "          \"hashtags\", \n",
    "          \"language\",\n",
    "          \"retweet_count\",\n",
    "          \"user_id\",\n",
    "          \"is_verified_user\",\n",
    "          \"user_follower_count\",\n",
    "          \"user_friend_count\",\n",
    "          \"user_location\",\n",
    "         ]\n",
    "index = np.arange(0)\n",
    "df = pd.DataFrame(columns=header, index = index)"
   ]
  },
  {
   "cell_type": "code",
   "execution_count": 54,
   "metadata": {
    "ExecuteTime": {
     "end_time": "2020-07-17T22:36:48.757534Z",
     "start_time": "2020-07-17T22:36:12.269918Z"
    },
    "scrolled": true
   },
   "outputs": [
    {
     "name": "stdout",
     "output_type": "stream",
     "text": [
      "requested tweets for hashtag is limited to 500 tweets\n",
      "collecting tweet 0 of 500...\n",
      "collecting tweet 10 of 500...\n",
      "collecting tweet 20 of 500...\n",
      "collecting tweet 30 of 500...\n",
      "collecting tweet 40 of 500...\n",
      "collecting tweet 50 of 500...\n",
      "collecting tweet 60 of 500...\n",
      "collecting tweet 70 of 500...\n",
      "collecting tweet 80 of 500...\n",
      "collecting tweet 90 of 500...\n",
      "collecting tweet 100 of 500...\n",
      "collecting tweet 110 of 500...\n",
      "collecting tweet 120 of 500...\n",
      "collecting tweet 130 of 500...\n",
      "collecting tweet 140 of 500...\n",
      "collecting tweet 150 of 500...\n",
      "collecting tweet 160 of 500...\n",
      "collecting tweet 170 of 500...\n",
      "collecting tweet 180 of 500...\n",
      "collecting tweet 190 of 500...\n",
      "collecting tweet 200 of 500...\n",
      "collecting tweet 210 of 500...\n",
      "collecting tweet 220 of 500...\n",
      "collecting tweet 230 of 500...\n",
      "collecting tweet 240 of 500...\n",
      "collecting tweet 250 of 500...\n",
      "collecting tweet 260 of 500...\n",
      "collecting tweet 270 of 500...\n",
      "collecting tweet 280 of 500...\n",
      "collecting tweet 290 of 500...\n",
      "collecting tweet 300 of 500...\n",
      "collecting tweet 310 of 500...\n",
      "collecting tweet 320 of 500...\n",
      "collecting tweet 330 of 500...\n",
      "collecting tweet 340 of 500...\n",
      "collecting tweet 350 of 500...\n",
      "collecting tweet 360 of 500...\n",
      "collecting tweet 370 of 500...\n",
      "collecting tweet 380 of 500...\n",
      "collecting tweet 390 of 500...\n",
      "collecting tweet 400 of 500...\n",
      "collecting tweet 410 of 500...\n",
      "collecting tweet 420 of 500...\n",
      "collecting tweet 430 of 500...\n",
      "collecting tweet 440 of 500...\n",
      "collecting tweet 450 of 500...\n",
      "collecting tweet 460 of 500...\n",
      "collecting tweet 470 of 500...\n",
      "collecting tweet 480 of 500...\n",
      "collecting tweet 490 of 500...\n",
      "collecting tweet 500 of 500...\n",
      "requested tweet limit reached...\n",
      "ending query for hashtag...\n"
     ]
    }
   ],
   "source": [
    "count = 0 # counter\n",
    "print(\"requested tweets for hashtag is limited to {} tweets\".format(limit))\n",
    "for item in r.get_iterator(wait=6):\n",
    "    if 'text' in item:\n",
    "        if count <= limit:\n",
    "            if count % 10 == 0:\n",
    "                print(\"collecting tweet {} of {}...\".format(count, limit))\n",
    "            count += 1\n",
    "            #Extract Tweet Info\n",
    "            new_row = extract_tweet_info(item, count, SEARCH_TERM)\n",
    "            df = df.append(new_row, ignore_index=True)\n",
    "\n",
    "        else:\n",
    "            print(\"requested tweet limit reached...\")\n",
    "            print(\"ending query for hashtag...\")\n",
    "            break\n",
    "\n",
    "    elif 'message' in item and item['code'] == 88:\n",
    "        print('SUSPEND, RATE LIMIT EXCEEDED: %s' % item['message'])\n",
    "        break"
   ]
  },
  {
   "cell_type": "code",
   "execution_count": 51,
   "metadata": {
    "ExecuteTime": {
     "end_time": "2020-07-17T22:36:59.957212Z",
     "start_time": "2020-07-17T22:36:59.947073Z"
    }
   },
   "outputs": [
    {
     "data": {
      "text/html": [
       "<div>\n",
       "<style scoped>\n",
       "    .dataframe tbody tr th:only-of-type {\n",
       "        vertical-align: middle;\n",
       "    }\n",
       "\n",
       "    .dataframe tbody tr th {\n",
       "        vertical-align: top;\n",
       "    }\n",
       "\n",
       "    .dataframe thead th {\n",
       "        text-align: right;\n",
       "    }\n",
       "</style>\n",
       "<table border=\"1\" class=\"dataframe\">\n",
       "  <thead>\n",
       "    <tr style=\"text-align: right;\">\n",
       "      <th></th>\n",
       "      <th>created_at</th>\n",
       "      <th>tweet</th>\n",
       "      <th>search_term</th>\n",
       "      <th>hashtags</th>\n",
       "      <th>language</th>\n",
       "      <th>retweet_count</th>\n",
       "      <th>user_id</th>\n",
       "      <th>is_verified_user</th>\n",
       "      <th>user_follower_count</th>\n",
       "      <th>user_friend_count</th>\n",
       "      <th>user_location</th>\n",
       "    </tr>\n",
       "  </thead>\n",
       "  <tbody>\n",
       "    <tr>\n",
       "      <th>0</th>\n",
       "      <td>Fri Sep 25 04:21:41 +0000 2020</td>\n",
       "      <td>#Nuggets lead the series 1-3</td>\n",
       "      <td>nuggets</td>\n",
       "      <td>'Nuggets'</td>\n",
       "      <td>en</td>\n",
       "      <td>0</td>\n",
       "      <td>57270423</td>\n",
       "      <td>False</td>\n",
       "      <td>1182</td>\n",
       "      <td>311</td>\n",
       "      <td></td>\n",
       "    </tr>\n",
       "    <tr>\n",
       "      <th>1</th>\n",
       "      <td>Fri Sep 25 04:21:30 +0000 2020</td>\n",
       "      <td>It's time!! #Nuggets!! https://t.co/WqRz3O0AKW</td>\n",
       "      <td>nuggets</td>\n",
       "      <td>'Nuggets'</td>\n",
       "      <td>en</td>\n",
       "      <td>0</td>\n",
       "      <td>60448531</td>\n",
       "      <td>False</td>\n",
       "      <td>1717</td>\n",
       "      <td>1002</td>\n",
       "      <td></td>\n",
       "    </tr>\n",
       "    <tr>\n",
       "      <th>2</th>\n",
       "      <td>Fri Sep 25 04:21:30 +0000 2020</td>\n",
       "      <td>This is comical. They actually asked the leagu...</td>\n",
       "      <td>nuggets</td>\n",
       "      <td>'Nuggets'</td>\n",
       "      <td>en</td>\n",
       "      <td>0</td>\n",
       "      <td>56868379</td>\n",
       "      <td>False</td>\n",
       "      <td>76</td>\n",
       "      <td>103</td>\n",
       "      <td>Centennial, CO</td>\n",
       "    </tr>\n",
       "    <tr>\n",
       "      <th>3</th>\n",
       "      <td>Fri Sep 25 04:21:29 +0000 2020</td>\n",
       "      <td>RT @ESPNDatos: #LeBronJames lidera a los #Lake...</td>\n",
       "      <td>nuggets</td>\n",
       "      <td>'LeBronJames', 'Lakers', 'Nuggets'</td>\n",
       "      <td>es</td>\n",
       "      <td>16</td>\n",
       "      <td>1228383504330895361</td>\n",
       "      <td>False</td>\n",
       "      <td>121</td>\n",
       "      <td>142</td>\n",
       "      <td>Choluteca</td>\n",
       "    </tr>\n",
       "    <tr>\n",
       "      <th>4</th>\n",
       "      <td>Fri Sep 25 04:21:15 +0000 2020</td>\n",
       "      <td>RT @1043TheFan: RAPID REACTION | #Nuggets down...</td>\n",
       "      <td>nuggets</td>\n",
       "      <td>'Nuggets'</td>\n",
       "      <td>en</td>\n",
       "      <td>5</td>\n",
       "      <td>2587240453</td>\n",
       "      <td>False</td>\n",
       "      <td>1048</td>\n",
       "      <td>1045</td>\n",
       "      <td>Colorado Springs, CO</td>\n",
       "    </tr>\n",
       "  </tbody>\n",
       "</table>\n",
       "</div>"
      ],
      "text/plain": [
       "                       created_at  \\\n",
       "0  Fri Sep 25 04:21:41 +0000 2020   \n",
       "1  Fri Sep 25 04:21:30 +0000 2020   \n",
       "2  Fri Sep 25 04:21:30 +0000 2020   \n",
       "3  Fri Sep 25 04:21:29 +0000 2020   \n",
       "4  Fri Sep 25 04:21:15 +0000 2020   \n",
       "\n",
       "                                               tweet search_term  \\\n",
       "0                       #Nuggets lead the series 1-3     nuggets   \n",
       "1     It's time!! #Nuggets!! https://t.co/WqRz3O0AKW     nuggets   \n",
       "2  This is comical. They actually asked the leagu...     nuggets   \n",
       "3  RT @ESPNDatos: #LeBronJames lidera a los #Lake...     nuggets   \n",
       "4  RT @1043TheFan: RAPID REACTION | #Nuggets down...     nuggets   \n",
       "\n",
       "                             hashtags language retweet_count  \\\n",
       "0                           'Nuggets'       en             0   \n",
       "1                           'Nuggets'       en             0   \n",
       "2                           'Nuggets'       en             0   \n",
       "3  'LeBronJames', 'Lakers', 'Nuggets'       es            16   \n",
       "4                           'Nuggets'       en             5   \n",
       "\n",
       "               user_id is_verified_user user_follower_count user_friend_count  \\\n",
       "0             57270423            False                1182               311   \n",
       "1             60448531            False                1717              1002   \n",
       "2             56868379            False                  76               103   \n",
       "3  1228383504330895361            False                 121               142   \n",
       "4           2587240453            False                1048              1045   \n",
       "\n",
       "           user_location  \n",
       "0                         \n",
       "1                         \n",
       "2         Centennial, CO  \n",
       "3              Choluteca  \n",
       "4  Colorado Springs, CO   "
      ]
     },
     "execution_count": 51,
     "metadata": {},
     "output_type": "execute_result"
    }
   ],
   "source": [
    "df.head()"
   ]
  },
  {
   "cell_type": "code",
   "execution_count": 55,
   "metadata": {
    "ExecuteTime": {
     "end_time": "2020-07-17T22:37:44.316911Z",
     "start_time": "2020-07-17T22:37:44.284022Z"
    }
   },
   "outputs": [
    {
     "name": "stdout",
     "output_type": "stream",
     "text": [
      "(501, 11)\n"
     ]
    }
   ],
   "source": [
    "# save the dataframe to csv\n",
    "print(df.shape)\n",
    "df.to_csv(\"nuggets2.csv\")"
   ]
  },
  {
   "cell_type": "code",
   "execution_count": null,
   "metadata": {},
   "outputs": [],
   "source": []
  }
 ],
 "metadata": {
  "kernelspec": {
   "display_name": "Python 3",
   "language": "python",
   "name": "python3"
  },
  "language_info": {
   "codemirror_mode": {
    "name": "ipython",
    "version": 3
   },
   "file_extension": ".py",
   "mimetype": "text/x-python",
   "name": "python",
   "nbconvert_exporter": "python",
   "pygments_lexer": "ipython3",
   "version": "3.7.3"
  }
 },
 "nbformat": 4,
 "nbformat_minor": 2
}
